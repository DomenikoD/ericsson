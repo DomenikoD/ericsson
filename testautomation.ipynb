{
 "cells": [
  {
   "cell_type": "markdown",
   "metadata": {},
   "source": [
    "# Test automation in python\n",
    "\n",
    "Manual parts\n",
    "- Add pet in the repo\n",
    "- Read pet by ID from the repo"
   ]
  },
  {
   "cell_type": "code",
   "execution_count": 1,
   "metadata": {},
   "outputs": [
    {
     "name": "stdout",
     "output_type": "stream",
     "text": [
      "Pet added successfully!\n",
      "{'id': 102, 'category': {'id': 0, 'name': 'Domeniko'}, 'name': 'Domeniko', 'photoUrls': ['http://example.com/photos/domeniko'], 'tags': [{'id': 0, 'name': 'sample-tag'}], 'status': 'available'}\n"
     ]
    }
   ],
   "source": [
    "import requests\n",
    "import json\n",
    "\n",
    "# API endpoint\n",
    "url = 'https://petstore.swagger.io/v2/pet'\n",
    "\n",
    "# Headers to indicate we are sending JSON data\n",
    "headers = {'Content-Type': 'application/json'}\n",
    "\n",
    "# Pet data to be sent in the request body\n",
    "pet_data = {\n",
    "    \"id\": 102,\n",
    "    \"category\": {\n",
    "        \"id\": 0,\n",
    "        \"name\": \"Domeniko\"\n",
    "    },\n",
    "    \"name\": \"Domeniko\",\n",
    "    \"photoUrls\": [\n",
    "        \"http://example.com/photos/domeniko\"\n",
    "    ],\n",
    "    \"tags\": [\n",
    "        {\n",
    "            \"id\": 0,\n",
    "            \"name\": \"sample-tag\"\n",
    "        }\n",
    "    ],\n",
    "    \"status\": \"available\"\n",
    "}\n",
    "\n",
    "# Make the POST request to add the new pet\n",
    "response = requests.post(url, headers=headers, data=json.dumps(pet_data))\n",
    "\n",
    "# Check if the pet was added successfully\n",
    "if response.status_code == 200:\n",
    "    print(\"Pet added successfully!\")\n",
    "    print(response.json())  # Printing the response to see the added pet details\n",
    "else:\n",
    "    print(f\"Failed to add pet: {response.status_code}\")\n",
    "    print(response.text)  # Print error message if not successful\n"
   ]
  },
  {
   "cell_type": "markdown",
   "metadata": {},
   "source": [
    "Read from the repo by ID"
   ]
  },
  {
   "cell_type": "code",
   "execution_count": 5,
   "metadata": {},
   "outputs": [
    {
     "name": "stdout",
     "output_type": "stream",
     "text": [
      "Pet details retrieved successfully!\n",
      "{'id': 101, 'category': {'id': 0, 'name': 'Dogs'}, 'name': 'Domeniko', 'photoUrls': ['http://example.com/photos/domeniko'], 'tags': [{'id': 0, 'name': 'sample-tag'}], 'status': 'available'}\n"
     ]
    }
   ],
   "source": [
    "import requests\n",
    "\n",
    "def get_pet_by_id(pet_id):\n",
    "    \"\"\"Fetches a pet by its ID from the Swagger Petstore.\"\"\"\n",
    "    # URL for the GET request, replace {petId} with the actual pet ID\n",
    "    url = f'https://petstore.swagger.io/v2/pet/{pet_id}'\n",
    "\n",
    "    # Make the GET request\n",
    "    response = requests.get(url)\n",
    "\n",
    "    # Check if the request was successful\n",
    "    if response.status_code == 200:\n",
    "        print(\"Pet details retrieved successfully!\")\n",
    "        return response.json()  # Return the JSON response which contains the pet details\n",
    "    else:\n",
    "        print(f\"Failed to retrieve pet: {response.status_code}\")\n",
    "        return response.text  # Return the error message if not successful\n",
    "\n",
    "# Example usage to get pet with ID 0\n",
    "pet_details = get_pet_by_id(101)\n",
    "print(pet_details)\n"
   ]
  },
  {
   "cell_type": "markdown",
   "metadata": {},
   "source": [
    "## Automated - python selenium\n",
    "\n",
    "Open webpage and click on elemnt to add in basket"
   ]
  },
  {
   "cell_type": "code",
   "execution_count": 2,
   "metadata": {},
   "outputs": [
    {
     "ename": "ModuleNotFoundError",
     "evalue": "No module named 'selenium'",
     "output_type": "error",
     "traceback": [
      "\u001b[0;31m---------------------------------------------------------------------------\u001b[0m",
      "\u001b[0;31mModuleNotFoundError\u001b[0m                       Traceback (most recent call last)",
      "\u001b[1;32m/workspace/ericsson/testautomation.ipynb Cell 6\u001b[0m line \u001b[0;36m1\n\u001b[0;32m----> <a href='vscode-notebook-cell://domenikod-ericsson-w4rgp4m0xda.ws-eu110.gitpod.io/workspace/ericsson/testautomation.ipynb#W6sdnNjb2RlLXJlbW90ZQ%3D%3D?line=0'>1</a>\u001b[0m \u001b[39mfrom\u001b[39;00m \u001b[39mselenium\u001b[39;00m \u001b[39mimport\u001b[39;00m webdriver\n\u001b[1;32m      <a href='vscode-notebook-cell://domenikod-ericsson-w4rgp4m0xda.ws-eu110.gitpod.io/workspace/ericsson/testautomation.ipynb#W6sdnNjb2RlLXJlbW90ZQ%3D%3D?line=1'>2</a>\u001b[0m \u001b[39mfrom\u001b[39;00m \u001b[39mselenium\u001b[39;00m\u001b[39m.\u001b[39;00m\u001b[39mwebdriver\u001b[39;00m\u001b[39m.\u001b[39;00m\u001b[39mchrome\u001b[39;00m\u001b[39m.\u001b[39;00m\u001b[39moptions\u001b[39;00m \u001b[39mimport\u001b[39;00m Options\n\u001b[1;32m      <a href='vscode-notebook-cell://domenikod-ericsson-w4rgp4m0xda.ws-eu110.gitpod.io/workspace/ericsson/testautomation.ipynb#W6sdnNjb2RlLXJlbW90ZQ%3D%3D?line=2'>3</a>\u001b[0m \u001b[39mfrom\u001b[39;00m \u001b[39mselenium\u001b[39;00m\u001b[39m.\u001b[39;00m\u001b[39mwebdriver\u001b[39;00m\u001b[39m.\u001b[39;00m\u001b[39mchrome\u001b[39;00m\u001b[39m.\u001b[39;00m\u001b[39mservice\u001b[39;00m \u001b[39mimport\u001b[39;00m Service\n",
      "\u001b[0;31mModuleNotFoundError\u001b[0m: No module named 'selenium'"
     ]
    }
   ],
   "source": [
    "from selenium import webdriver\n",
    "from selenium.webdriver.chrome.options import Options\n",
    "from selenium.webdriver.chrome.service import Service\n",
    "\n",
    "def get_headless_chrome():\n",
    "    options = Options()\n",
    "    options.add_argument(\"--headless\")  # Runs Chrome in headless mode.\n",
    "    options.add_argument('--no-sandbox')  # Bypass OS security model\n",
    "    options.add_argument('--disable-dev-shm-usage')  # Overcome limited resource problems\n",
    "    options.add_argument('start-maximized')  # Start maximized\n",
    "    options.add_argument('disable-infobars')\n",
    "    options.add_argument('--disable-extensions')\n",
    "    # Set path to chromedriver as per the setup in the Dockerfile\n",
    "    service = Service(executable_path=\"/usr/bin/chromedriver\")\n",
    "    return webdriver.Chrome(service=service, options=options)\n",
    "\n",
    "# Example of using the headless browser\n",
    "driver = get_headless_chrome()\n",
    "driver.get(\"https://www.index.hr\")\n",
    "print(driver.title)\n",
    "driver.quit()\n"
   ]
  }
 ],
 "metadata": {
  "kernelspec": {
   "display_name": "Python 3",
   "language": "python",
   "name": "python3"
  },
  "language_info": {
   "codemirror_mode": {
    "name": "ipython",
    "version": 3
   },
   "file_extension": ".py",
   "mimetype": "text/x-python",
   "name": "python",
   "nbconvert_exporter": "python",
   "pygments_lexer": "ipython3",
   "version": "3.12.3"
  }
 },
 "nbformat": 4,
 "nbformat_minor": 2
}
