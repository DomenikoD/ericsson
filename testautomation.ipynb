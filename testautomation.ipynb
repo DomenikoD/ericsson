{
 "cells": [
  {
   "cell_type": "markdown",
   "metadata": {},
   "source": [
    "# Test automation in python\n",
    "\n",
    "Manual parts\n",
    "- Add pet in the repo\n",
    "- Read pet by ID from the repo"
   ]
  },
  {
   "cell_type": "code",
   "execution_count": 1,
   "metadata": {},
   "outputs": [
    {
     "name": "stdout",
     "output_type": "stream",
     "text": [
      "Pet added successfully!\n",
      "{'id': 102, 'category': {'id': 0, 'name': 'Domeniko'}, 'name': 'Domeniko', 'photoUrls': ['http://example.com/photos/domeniko'], 'tags': [{'id': 0, 'name': 'sample-tag'}], 'status': 'available'}\n"
     ]
    }
   ],
   "source": [
    "import requests\n",
    "import json\n",
    "\n",
    "# API endpoint\n",
    "url = 'https://petstore.swagger.io/v2/pet'\n",
    "\n",
    "# Headers to indicate we are sending JSON data\n",
    "headers = {'Content-Type': 'application/json'}\n",
    "\n",
    "# Pet data to be sent in the request body\n",
    "pet_data = {\n",
    "    \"id\": 102,\n",
    "    \"category\": {\n",
    "        \"id\": 0,\n",
    "        \"name\": \"Domeniko\"\n",
    "    },\n",
    "    \"name\": \"Domeniko\",\n",
    "    \"photoUrls\": [\n",
    "        \"http://example.com/photos/domeniko\"\n",
    "    ],\n",
    "    \"tags\": [\n",
    "        {\n",
    "            \"id\": 0,\n",
    "            \"name\": \"sample-tag\"\n",
    "        }\n",
    "    ],\n",
    "    \"status\": \"available\"\n",
    "}\n",
    "\n",
    "# Make the POST request to add the new pet\n",
    "response = requests.post(url, headers=headers, data=json.dumps(pet_data))\n",
    "\n",
    "# Check if the pet was added successfully\n",
    "if response.status_code == 200:\n",
    "    print(\"Pet added successfully!\")\n",
    "    print(response.json())  # Printing the response to see the added pet details\n",
    "else:\n",
    "    print(f\"Failed to add pet: {response.status_code}\")\n",
    "    print(response.text)  # Print error message if not successful\n"
   ]
  },
  {
   "cell_type": "markdown",
   "metadata": {},
   "source": [
    "Read from the repo by ID"
   ]
  },
  {
   "cell_type": "code",
   "execution_count": 5,
   "metadata": {},
   "outputs": [
    {
     "name": "stdout",
     "output_type": "stream",
     "text": [
      "Pet details retrieved successfully!\n",
      "{'id': 101, 'category': {'id': 0, 'name': 'Dogs'}, 'name': 'Domeniko', 'photoUrls': ['http://example.com/photos/domeniko'], 'tags': [{'id': 0, 'name': 'sample-tag'}], 'status': 'available'}\n"
     ]
    }
   ],
   "source": [
    "import requests\n",
    "\n",
    "def get_pet_by_id(pet_id):\n",
    "    \"\"\"Fetches a pet by its ID from the Swagger Petstore.\"\"\"\n",
    "    # URL for the GET request, replace {petId} with the actual pet ID\n",
    "    url = f'https://petstore.swagger.io/v2/pet/{pet_id}'\n",
    "\n",
    "    # Make the GET request\n",
    "    response = requests.get(url)\n",
    "\n",
    "    # Check if the request was successful\n",
    "    if response.status_code == 200:\n",
    "        print(\"Pet details retrieved successfully!\")\n",
    "        return response.json()  # Return the JSON response which contains the pet details\n",
    "    else:\n",
    "        print(f\"Failed to retrieve pet: {response.status_code}\")\n",
    "        return response.text  # Return the error message if not successful\n",
    "\n",
    "# Example usage to get pet with ID 0\n",
    "pet_details = get_pet_by_id(101)\n",
    "print(pet_details)\n"
   ]
  },
  {
   "cell_type": "markdown",
   "metadata": {},
   "source": [
    "## Automated - python selenium\n",
    "\n",
    "Open webpage and click on elemnt to add in basket"
   ]
  },
  {
   "cell_type": "code",
   "execution_count": 1,
   "metadata": {},
   "outputs": [
    {
     "name": "stdout",
     "output_type": "stream",
     "text": [
      "200\n"
     ]
    }
   ],
   "source": [
    "import requests\n",
    "\n",
    "url = 'http://index.hr'\n",
    "headers = {\n",
    "    'User-Agent': 'Mozilla/5.0 (Windows NT 10.0; Win64; x64) AppleWebKit/537.36 (KHTML, like Gecko) Chrome/58.0.3029.110 Safari/537.3'\n",
    "}\n",
    "response = requests.get(url, headers=headers)\n",
    "print(response.status_code)\n"
   ]
  },
  {
   "cell_type": "code",
   "execution_count": 2,
   "metadata": {},
   "outputs": [
    {
     "name": "stderr",
     "output_type": "stream",
     "text": [
      "The chromedriver version (114.0.5735.90) detected in PATH at /usr/bin/chromedriver might not be compatible with the detected chrome version (124.0.6367.78); currently, chromedriver 124.0.6367.78 is recommended for chrome 124.*, so it is advised to delete the driver in PATH and retry\n"
     ]
    },
    {
     "ename": "WebDriverException",
     "evalue": "Message: unknown error: Chrome failed to start: exited abnormally.\n  (unknown error: DevToolsActivePort file doesn't exist)\n  (The process started from chrome location /home/gitpod/.cache/selenium/chrome/linux64/124.0.6367.78/chrome is no longer running, so ChromeDriver is assuming that Chrome has crashed.)\nStacktrace:\n#0 0x561358e9d4e3 (/run/containerd/io.containerd.runtime.v2.task/k8s.io/4b54ffcc0e099faeceefa6c9eaccee0b98b21094ad024c82e27f8ed014336108/rootfs/usr/bin/chromedriver+0x6d74e2)\n#1 0x561358bccc76 (/run/containerd/io.containerd.runtime.v2.task/k8s.io/4b54ffcc0e099faeceefa6c9eaccee0b98b21094ad024c82e27f8ed014336108/rootfs/usr/bin/chromedriver+0x406c75)\n#2 0x561358bf5d78 (/run/containerd/io.containerd.runtime.v2.task/k8s.io/4b54ffcc0e099faeceefa6c9eaccee0b98b21094ad024c82e27f8ed014336108/rootfs/usr/bin/chromedriver+0x42fd77)\n#3 0x561358bf2029 (/run/containerd/io.containerd.runtime.v2.task/k8s.io/4b54ffcc0e099faeceefa6c9eaccee0b98b21094ad024c82e27f8ed014336108/rootfs/usr/bin/chromedriver+0x42c028)\n#4 0x561358c30ccc (/run/containerd/io.containerd.runtime.v2.task/k8s.io/4b54ffcc0e099faeceefa6c9eaccee0b98b21094ad024c82e27f8ed014336108/rootfs/usr/bin/chromedriver+0x46accb)\n#5 0x561358c3047f (/run/containerd/io.containerd.runtime.v2.task/k8s.io/4b54ffcc0e099faeceefa6c9eaccee0b98b21094ad024c82e27f8ed014336108/rootfs/usr/bin/chromedriver+0x46a47e)\n#6 0x561358c27de3 (/run/containerd/io.containerd.runtime.v2.task/k8s.io/4b54ffcc0e099faeceefa6c9eaccee0b98b21094ad024c82e27f8ed014336108/rootfs/usr/bin/chromedriver+0x461de2)\n#7 0x561358bfd2dd (/run/containerd/io.containerd.runtime.v2.task/k8s.io/4b54ffcc0e099faeceefa6c9eaccee0b98b21094ad024c82e27f8ed014336108/rootfs/usr/bin/chromedriver+0x4372dc)\n#8 0x561358bfe34e (/run/containerd/io.containerd.runtime.v2.task/k8s.io/4b54ffcc0e099faeceefa6c9eaccee0b98b21094ad024c82e27f8ed014336108/rootfs/usr/bin/chromedriver+0x43834d)\n#9 0x561358e5d3e4 (/run/containerd/io.containerd.runtime.v2.task/k8s.io/4b54ffcc0e099faeceefa6c9eaccee0b98b21094ad024c82e27f8ed014336108/rootfs/usr/bin/chromedriver+0x6973e3)\n#10 0x561358e613d7 (/run/containerd/io.containerd.runtime.v2.task/k8s.io/4b54ffcc0e099faeceefa6c9eaccee0b98b21094ad024c82e27f8ed014336108/rootfs/usr/bin/chromedriver+0x69b3d6)\n#11 0x561358e6bb20 (/run/containerd/io.containerd.runtime.v2.task/k8s.io/4b54ffcc0e099faeceefa6c9eaccee0b98b21094ad024c82e27f8ed014336108/rootfs/usr/bin/chromedriver+0x6a5b1f)\n#12 0x561358e62023 (/run/containerd/io.containerd.runtime.v2.task/k8s.io/4b54ffcc0e099faeceefa6c9eaccee0b98b21094ad024c82e27f8ed014336108/rootfs/usr/bin/chromedriver+0x69c022)\n#13 0x561358e301aa (/run/containerd/io.containerd.runtime.v2.task/k8s.io/4b54ffcc0e099faeceefa6c9eaccee0b98b21094ad024c82e27f8ed014336108/rootfs/usr/bin/chromedriver+0x66a1a9)\n#14 0x561358e866b8 (/run/containerd/io.containerd.runtime.v2.task/k8s.io/4b54ffcc0e099faeceefa6c9eaccee0b98b21094ad024c82e27f8ed014336108/rootfs/usr/bin/chromedriver+0x6c06b7)\n#15 0x561358e86847 (/run/containerd/io.containerd.runtime.v2.task/k8s.io/4b54ffcc0e099faeceefa6c9eaccee0b98b21094ad024c82e27f8ed014336108/rootfs/usr/bin/chromedriver+0x6c0846)\n#16 0x561358e96243 (/run/containerd/io.containerd.runtime.v2.task/k8s.io/4b54ffcc0e099faeceefa6c9eaccee0b98b21094ad024c82e27f8ed014336108/rootfs/usr/bin/chromedriver+0x6d0242)\n#17 0x7fa06a70cac3 (/run/containerd/io.containerd.runtime.v2.task/k8s.io/4b54ffcc0e099faeceefa6c9eaccee0b98b21094ad024c82e27f8ed014336108/rootfs/usr/lib/x86_64-linux-gnu/libc.so.6+0x94ac2)\n",
     "output_type": "error",
     "traceback": [
      "\u001b[0;31m---------------------------------------------------------------------------\u001b[0m",
      "\u001b[0;31mWebDriverException\u001b[0m                        Traceback (most recent call last)",
      "\u001b[1;32m/workspace/ericsson/testautomation.ipynb Cell 7\u001b[0m line \u001b[0;36m1\n\u001b[1;32m      <a href='vscode-notebook-cell://domenikod-ericsson-td6hwzv3tte.ws-eu110.gitpod.io/workspace/ericsson/testautomation.ipynb#W6sdnNjb2RlLXJlbW90ZQ%3D%3D?line=8'>9</a>\u001b[0m     driver \u001b[39m=\u001b[39m webdriver\u001b[39m.\u001b[39mChrome(options\u001b[39m=\u001b[39moptions)\n\u001b[1;32m     <a href='vscode-notebook-cell://domenikod-ericsson-td6hwzv3tte.ws-eu110.gitpod.io/workspace/ericsson/testautomation.ipynb#W6sdnNjb2RlLXJlbW90ZQ%3D%3D?line=9'>10</a>\u001b[0m     \u001b[39mreturn\u001b[39;00m driver\n\u001b[0;32m---> <a href='vscode-notebook-cell://domenikod-ericsson-td6hwzv3tte.ws-eu110.gitpod.io/workspace/ericsson/testautomation.ipynb#W6sdnNjb2RlLXJlbW90ZQ%3D%3D?line=11'>12</a>\u001b[0m driver \u001b[39m=\u001b[39m get_headless_chrome()\n\u001b[1;32m     <a href='vscode-notebook-cell://domenikod-ericsson-td6hwzv3tte.ws-eu110.gitpod.io/workspace/ericsson/testautomation.ipynb#W6sdnNjb2RlLXJlbW90ZQ%3D%3D?line=12'>13</a>\u001b[0m driver\u001b[39m.\u001b[39mget(\u001b[39m\"\u001b[39m\u001b[39mhttp://www.index.hr\u001b[39m\u001b[39m\"\u001b[39m)\n\u001b[1;32m     <a href='vscode-notebook-cell://domenikod-ericsson-td6hwzv3tte.ws-eu110.gitpod.io/workspace/ericsson/testautomation.ipynb#W6sdnNjb2RlLXJlbW90ZQ%3D%3D?line=13'>14</a>\u001b[0m \u001b[39mprint\u001b[39m(driver\u001b[39m.\u001b[39mtitle)\n",
      "\u001b[1;32m/workspace/ericsson/testautomation.ipynb Cell 7\u001b[0m line \u001b[0;36m9\n\u001b[1;32m      <a href='vscode-notebook-cell://domenikod-ericsson-td6hwzv3tte.ws-eu110.gitpod.io/workspace/ericsson/testautomation.ipynb#W6sdnNjb2RlLXJlbW90ZQ%3D%3D?line=6'>7</a>\u001b[0m options\u001b[39m.\u001b[39madd_argument(\u001b[39m\"\u001b[39m\u001b[39m--no-sandbox\u001b[39m\u001b[39m\"\u001b[39m)\n\u001b[1;32m      <a href='vscode-notebook-cell://domenikod-ericsson-td6hwzv3tte.ws-eu110.gitpod.io/workspace/ericsson/testautomation.ipynb#W6sdnNjb2RlLXJlbW90ZQ%3D%3D?line=7'>8</a>\u001b[0m options\u001b[39m.\u001b[39madd_argument(\u001b[39m\"\u001b[39m\u001b[39m--disable-dev-shm-usage\u001b[39m\u001b[39m\"\u001b[39m)\n\u001b[0;32m----> <a href='vscode-notebook-cell://domenikod-ericsson-td6hwzv3tte.ws-eu110.gitpod.io/workspace/ericsson/testautomation.ipynb#W6sdnNjb2RlLXJlbW90ZQ%3D%3D?line=8'>9</a>\u001b[0m driver \u001b[39m=\u001b[39m webdriver\u001b[39m.\u001b[39;49mChrome(options\u001b[39m=\u001b[39;49moptions)\n\u001b[1;32m     <a href='vscode-notebook-cell://domenikod-ericsson-td6hwzv3tte.ws-eu110.gitpod.io/workspace/ericsson/testautomation.ipynb#W6sdnNjb2RlLXJlbW90ZQ%3D%3D?line=9'>10</a>\u001b[0m \u001b[39mreturn\u001b[39;00m driver\n",
      "File \u001b[0;32m~/.pyenv/versions/3.12.3/lib/python3.12/site-packages/selenium/webdriver/chrome/webdriver.py:45\u001b[0m, in \u001b[0;36mWebDriver.__init__\u001b[0;34m(self, options, service, keep_alive)\u001b[0m\n\u001b[1;32m     42\u001b[0m service \u001b[39m=\u001b[39m service \u001b[39mif\u001b[39;00m service \u001b[39melse\u001b[39;00m Service()\n\u001b[1;32m     43\u001b[0m options \u001b[39m=\u001b[39m options \u001b[39mif\u001b[39;00m options \u001b[39melse\u001b[39;00m Options()\n\u001b[0;32m---> 45\u001b[0m \u001b[39msuper\u001b[39;49m()\u001b[39m.\u001b[39;49m\u001b[39m__init__\u001b[39;49m(\n\u001b[1;32m     46\u001b[0m     browser_name\u001b[39m=\u001b[39;49mDesiredCapabilities\u001b[39m.\u001b[39;49mCHROME[\u001b[39m\"\u001b[39;49m\u001b[39mbrowserName\u001b[39;49m\u001b[39m\"\u001b[39;49m],\n\u001b[1;32m     47\u001b[0m     vendor_prefix\u001b[39m=\u001b[39;49m\u001b[39m\"\u001b[39;49m\u001b[39mgoog\u001b[39;49m\u001b[39m\"\u001b[39;49m,\n\u001b[1;32m     48\u001b[0m     options\u001b[39m=\u001b[39;49moptions,\n\u001b[1;32m     49\u001b[0m     service\u001b[39m=\u001b[39;49mservice,\n\u001b[1;32m     50\u001b[0m     keep_alive\u001b[39m=\u001b[39;49mkeep_alive,\n\u001b[1;32m     51\u001b[0m )\n",
      "File \u001b[0;32m~/.pyenv/versions/3.12.3/lib/python3.12/site-packages/selenium/webdriver/chromium/webdriver.py:61\u001b[0m, in \u001b[0;36mChromiumDriver.__init__\u001b[0;34m(self, browser_name, vendor_prefix, options, service, keep_alive)\u001b[0m\n\u001b[1;32m     52\u001b[0m executor \u001b[39m=\u001b[39m ChromiumRemoteConnection(\n\u001b[1;32m     53\u001b[0m     remote_server_addr\u001b[39m=\u001b[39m\u001b[39mself\u001b[39m\u001b[39m.\u001b[39mservice\u001b[39m.\u001b[39mservice_url,\n\u001b[1;32m     54\u001b[0m     browser_name\u001b[39m=\u001b[39mbrowser_name,\n\u001b[0;32m   (...)\u001b[0m\n\u001b[1;32m     57\u001b[0m     ignore_proxy\u001b[39m=\u001b[39moptions\u001b[39m.\u001b[39m_ignore_local_proxy,\n\u001b[1;32m     58\u001b[0m )\n\u001b[1;32m     60\u001b[0m \u001b[39mtry\u001b[39;00m:\n\u001b[0;32m---> 61\u001b[0m     \u001b[39msuper\u001b[39;49m()\u001b[39m.\u001b[39;49m\u001b[39m__init__\u001b[39;49m(command_executor\u001b[39m=\u001b[39;49mexecutor, options\u001b[39m=\u001b[39;49moptions)\n\u001b[1;32m     62\u001b[0m \u001b[39mexcept\u001b[39;00m \u001b[39mException\u001b[39;00m:\n\u001b[1;32m     63\u001b[0m     \u001b[39mself\u001b[39m\u001b[39m.\u001b[39mquit()\n",
      "File \u001b[0;32m~/.pyenv/versions/3.12.3/lib/python3.12/site-packages/selenium/webdriver/remote/webdriver.py:208\u001b[0m, in \u001b[0;36mWebDriver.__init__\u001b[0;34m(self, command_executor, keep_alive, file_detector, options)\u001b[0m\n\u001b[1;32m    206\u001b[0m \u001b[39mself\u001b[39m\u001b[39m.\u001b[39m_authenticator_id \u001b[39m=\u001b[39m \u001b[39mNone\u001b[39;00m\n\u001b[1;32m    207\u001b[0m \u001b[39mself\u001b[39m\u001b[39m.\u001b[39mstart_client()\n\u001b[0;32m--> 208\u001b[0m \u001b[39mself\u001b[39;49m\u001b[39m.\u001b[39;49mstart_session(capabilities)\n",
      "File \u001b[0;32m~/.pyenv/versions/3.12.3/lib/python3.12/site-packages/selenium/webdriver/remote/webdriver.py:292\u001b[0m, in \u001b[0;36mWebDriver.start_session\u001b[0;34m(self, capabilities)\u001b[0m\n\u001b[1;32m    285\u001b[0m \u001b[39m\u001b[39m\u001b[39m\"\"\"Creates a new session with the desired capabilities.\u001b[39;00m\n\u001b[1;32m    286\u001b[0m \n\u001b[1;32m    287\u001b[0m \u001b[39m:Args:\u001b[39;00m\n\u001b[1;32m    288\u001b[0m \u001b[39m - capabilities - a capabilities dict to start the session with.\u001b[39;00m\n\u001b[1;32m    289\u001b[0m \u001b[39m\"\"\"\u001b[39;00m\n\u001b[1;32m    291\u001b[0m caps \u001b[39m=\u001b[39m _create_caps(capabilities)\n\u001b[0;32m--> 292\u001b[0m response \u001b[39m=\u001b[39m \u001b[39mself\u001b[39;49m\u001b[39m.\u001b[39;49mexecute(Command\u001b[39m.\u001b[39;49mNEW_SESSION, caps)[\u001b[39m\"\u001b[39m\u001b[39mvalue\u001b[39m\u001b[39m\"\u001b[39m]\n\u001b[1;32m    293\u001b[0m \u001b[39mself\u001b[39m\u001b[39m.\u001b[39msession_id \u001b[39m=\u001b[39m response\u001b[39m.\u001b[39mget(\u001b[39m\"\u001b[39m\u001b[39msessionId\u001b[39m\u001b[39m\"\u001b[39m)\n\u001b[1;32m    294\u001b[0m \u001b[39mself\u001b[39m\u001b[39m.\u001b[39mcaps \u001b[39m=\u001b[39m response\u001b[39m.\u001b[39mget(\u001b[39m\"\u001b[39m\u001b[39mcapabilities\u001b[39m\u001b[39m\"\u001b[39m)\n",
      "File \u001b[0;32m~/.pyenv/versions/3.12.3/lib/python3.12/site-packages/selenium/webdriver/remote/webdriver.py:347\u001b[0m, in \u001b[0;36mWebDriver.execute\u001b[0;34m(self, driver_command, params)\u001b[0m\n\u001b[1;32m    345\u001b[0m response \u001b[39m=\u001b[39m \u001b[39mself\u001b[39m\u001b[39m.\u001b[39mcommand_executor\u001b[39m.\u001b[39mexecute(driver_command, params)\n\u001b[1;32m    346\u001b[0m \u001b[39mif\u001b[39;00m response:\n\u001b[0;32m--> 347\u001b[0m     \u001b[39mself\u001b[39;49m\u001b[39m.\u001b[39;49merror_handler\u001b[39m.\u001b[39;49mcheck_response(response)\n\u001b[1;32m    348\u001b[0m     response[\u001b[39m\"\u001b[39m\u001b[39mvalue\u001b[39m\u001b[39m\"\u001b[39m] \u001b[39m=\u001b[39m \u001b[39mself\u001b[39m\u001b[39m.\u001b[39m_unwrap_value(response\u001b[39m.\u001b[39mget(\u001b[39m\"\u001b[39m\u001b[39mvalue\u001b[39m\u001b[39m\"\u001b[39m, \u001b[39mNone\u001b[39;00m))\n\u001b[1;32m    349\u001b[0m     \u001b[39mreturn\u001b[39;00m response\n",
      "File \u001b[0;32m~/.pyenv/versions/3.12.3/lib/python3.12/site-packages/selenium/webdriver/remote/errorhandler.py:229\u001b[0m, in \u001b[0;36mErrorHandler.check_response\u001b[0;34m(self, response)\u001b[0m\n\u001b[1;32m    227\u001b[0m         alert_text \u001b[39m=\u001b[39m value[\u001b[39m\"\u001b[39m\u001b[39malert\u001b[39m\u001b[39m\"\u001b[39m]\u001b[39m.\u001b[39mget(\u001b[39m\"\u001b[39m\u001b[39mtext\u001b[39m\u001b[39m\"\u001b[39m)\n\u001b[1;32m    228\u001b[0m     \u001b[39mraise\u001b[39;00m exception_class(message, screen, stacktrace, alert_text)  \u001b[39m# type: ignore[call-arg]  # mypy is not smart enough here\u001b[39;00m\n\u001b[0;32m--> 229\u001b[0m \u001b[39mraise\u001b[39;00m exception_class(message, screen, stacktrace)\n",
      "\u001b[0;31mWebDriverException\u001b[0m: Message: unknown error: Chrome failed to start: exited abnormally.\n  (unknown error: DevToolsActivePort file doesn't exist)\n  (The process started from chrome location /home/gitpod/.cache/selenium/chrome/linux64/124.0.6367.78/chrome is no longer running, so ChromeDriver is assuming that Chrome has crashed.)\nStacktrace:\n#0 0x561358e9d4e3 (/run/containerd/io.containerd.runtime.v2.task/k8s.io/4b54ffcc0e099faeceefa6c9eaccee0b98b21094ad024c82e27f8ed014336108/rootfs/usr/bin/chromedriver+0x6d74e2)\n#1 0x561358bccc76 (/run/containerd/io.containerd.runtime.v2.task/k8s.io/4b54ffcc0e099faeceefa6c9eaccee0b98b21094ad024c82e27f8ed014336108/rootfs/usr/bin/chromedriver+0x406c75)\n#2 0x561358bf5d78 (/run/containerd/io.containerd.runtime.v2.task/k8s.io/4b54ffcc0e099faeceefa6c9eaccee0b98b21094ad024c82e27f8ed014336108/rootfs/usr/bin/chromedriver+0x42fd77)\n#3 0x561358bf2029 (/run/containerd/io.containerd.runtime.v2.task/k8s.io/4b54ffcc0e099faeceefa6c9eaccee0b98b21094ad024c82e27f8ed014336108/rootfs/usr/bin/chromedriver+0x42c028)\n#4 0x561358c30ccc (/run/containerd/io.containerd.runtime.v2.task/k8s.io/4b54ffcc0e099faeceefa6c9eaccee0b98b21094ad024c82e27f8ed014336108/rootfs/usr/bin/chromedriver+0x46accb)\n#5 0x561358c3047f (/run/containerd/io.containerd.runtime.v2.task/k8s.io/4b54ffcc0e099faeceefa6c9eaccee0b98b21094ad024c82e27f8ed014336108/rootfs/usr/bin/chromedriver+0x46a47e)\n#6 0x561358c27de3 (/run/containerd/io.containerd.runtime.v2.task/k8s.io/4b54ffcc0e099faeceefa6c9eaccee0b98b21094ad024c82e27f8ed014336108/rootfs/usr/bin/chromedriver+0x461de2)\n#7 0x561358bfd2dd (/run/containerd/io.containerd.runtime.v2.task/k8s.io/4b54ffcc0e099faeceefa6c9eaccee0b98b21094ad024c82e27f8ed014336108/rootfs/usr/bin/chromedriver+0x4372dc)\n#8 0x561358bfe34e (/run/containerd/io.containerd.runtime.v2.task/k8s.io/4b54ffcc0e099faeceefa6c9eaccee0b98b21094ad024c82e27f8ed014336108/rootfs/usr/bin/chromedriver+0x43834d)\n#9 0x561358e5d3e4 (/run/containerd/io.containerd.runtime.v2.task/k8s.io/4b54ffcc0e099faeceefa6c9eaccee0b98b21094ad024c82e27f8ed014336108/rootfs/usr/bin/chromedriver+0x6973e3)\n#10 0x561358e613d7 (/run/containerd/io.containerd.runtime.v2.task/k8s.io/4b54ffcc0e099faeceefa6c9eaccee0b98b21094ad024c82e27f8ed014336108/rootfs/usr/bin/chromedriver+0x69b3d6)\n#11 0x561358e6bb20 (/run/containerd/io.containerd.runtime.v2.task/k8s.io/4b54ffcc0e099faeceefa6c9eaccee0b98b21094ad024c82e27f8ed014336108/rootfs/usr/bin/chromedriver+0x6a5b1f)\n#12 0x561358e62023 (/run/containerd/io.containerd.runtime.v2.task/k8s.io/4b54ffcc0e099faeceefa6c9eaccee0b98b21094ad024c82e27f8ed014336108/rootfs/usr/bin/chromedriver+0x69c022)\n#13 0x561358e301aa (/run/containerd/io.containerd.runtime.v2.task/k8s.io/4b54ffcc0e099faeceefa6c9eaccee0b98b21094ad024c82e27f8ed014336108/rootfs/usr/bin/chromedriver+0x66a1a9)\n#14 0x561358e866b8 (/run/containerd/io.containerd.runtime.v2.task/k8s.io/4b54ffcc0e099faeceefa6c9eaccee0b98b21094ad024c82e27f8ed014336108/rootfs/usr/bin/chromedriver+0x6c06b7)\n#15 0x561358e86847 (/run/containerd/io.containerd.runtime.v2.task/k8s.io/4b54ffcc0e099faeceefa6c9eaccee0b98b21094ad024c82e27f8ed014336108/rootfs/usr/bin/chromedriver+0x6c0846)\n#16 0x561358e96243 (/run/containerd/io.containerd.runtime.v2.task/k8s.io/4b54ffcc0e099faeceefa6c9eaccee0b98b21094ad024c82e27f8ed014336108/rootfs/usr/bin/chromedriver+0x6d0242)\n#17 0x7fa06a70cac3 (/run/containerd/io.containerd.runtime.v2.task/k8s.io/4b54ffcc0e099faeceefa6c9eaccee0b98b21094ad024c82e27f8ed014336108/rootfs/usr/lib/x86_64-linux-gnu/libc.so.6+0x94ac2)\n"
     ]
    }
   ],
   "source": [
    "from selenium import webdriver\n",
    "from selenium.webdriver.chrome.options import Options\n",
    "\n",
    "def get_headless_chrome():\n",
    "    options = Options()\n",
    "    options.add_argument(\"--headless\")\n",
    "    options.add_argument(\"--no-sandbox\")\n",
    "    options.add_argument(\"--disable-dev-shm-usage\")\n",
    "    driver = webdriver.Chrome(options=options)\n",
    "    return driver\n",
    "\n",
    "driver = get_headless_chrome()\n",
    "driver.get(\"http://www.index.hr\")\n",
    "print(driver.title)\n",
    "driver.quit()\n"
   ]
  }
 ],
 "metadata": {
  "kernelspec": {
   "display_name": "Python 3",
   "language": "python",
   "name": "python3"
  },
  "language_info": {
   "codemirror_mode": {
    "name": "ipython",
    "version": 3
   },
   "file_extension": ".py",
   "mimetype": "text/x-python",
   "name": "python",
   "nbconvert_exporter": "python",
   "pygments_lexer": "ipython3",
   "version": "3.12.3"
  }
 },
 "nbformat": 4,
 "nbformat_minor": 2
}
