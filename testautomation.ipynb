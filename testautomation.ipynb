{
 "cells": [
  {
   "cell_type": "markdown",
   "metadata": {},
   "source": [
    "# Test automation in python\n",
    "\n",
    "Manual parts\n",
    "- Add pet in the repo\n",
    "- Read pet by ID from the repo"
   ]
  },
  {
   "cell_type": "code",
   "execution_count": 1,
   "metadata": {},
   "outputs": [
    {
     "name": "stdout",
     "output_type": "stream",
     "text": [
      "Pet added successfully!\n",
      "{'id': 102, 'category': {'id': 0, 'name': 'Domeniko'}, 'name': 'Domeniko', 'photoUrls': ['http://example.com/photos/domeniko'], 'tags': [{'id': 0, 'name': 'sample-tag'}], 'status': 'available'}\n"
     ]
    }
   ],
   "source": [
    "import requests\n",
    "import json\n",
    "\n",
    "# API endpoint\n",
    "url = 'https://petstore.swagger.io/v2/pet'\n",
    "\n",
    "# Headers to indicate we are sending JSON data\n",
    "headers = {'Content-Type': 'application/json'}\n",
    "\n",
    "# Pet data to be sent in the request body\n",
    "pet_data = {\n",
    "    \"id\": 102,\n",
    "    \"category\": {\n",
    "        \"id\": 0,\n",
    "        \"name\": \"Domeniko\"\n",
    "    },\n",
    "    \"name\": \"Domeniko\",\n",
    "    \"photoUrls\": [\n",
    "        \"http://example.com/photos/domeniko\"\n",
    "    ],\n",
    "    \"tags\": [\n",
    "        {\n",
    "            \"id\": 0,\n",
    "            \"name\": \"sample-tag\"\n",
    "        }\n",
    "    ],\n",
    "    \"status\": \"available\"\n",
    "}\n",
    "\n",
    "# Make the POST request to add the new pet\n",
    "response = requests.post(url, headers=headers, data=json.dumps(pet_data))\n",
    "\n",
    "# Check if the pet was added successfully\n",
    "if response.status_code == 200:\n",
    "    print(\"Pet added successfully!\")\n",
    "    print(response.json())  # Printing the response to see the added pet details\n",
    "else:\n",
    "    print(f\"Failed to add pet: {response.status_code}\")\n",
    "    print(response.text)  # Print error message if not successful\n"
   ]
  },
  {
   "cell_type": "markdown",
   "metadata": {},
   "source": [
    "Read from the repo by ID"
   ]
  },
  {
   "cell_type": "code",
   "execution_count": 5,
   "metadata": {},
   "outputs": [
    {
     "name": "stdout",
     "output_type": "stream",
     "text": [
      "Pet details retrieved successfully!\n",
      "{'id': 101, 'category': {'id': 0, 'name': 'Dogs'}, 'name': 'Domeniko', 'photoUrls': ['http://example.com/photos/domeniko'], 'tags': [{'id': 0, 'name': 'sample-tag'}], 'status': 'available'}\n"
     ]
    }
   ],
   "source": [
    "import requests\n",
    "\n",
    "def get_pet_by_id(pet_id):\n",
    "    \"\"\"Fetches a pet by its ID from the Swagger Petstore.\"\"\"\n",
    "    # URL for the GET request, replace {petId} with the actual pet ID\n",
    "    url = f'https://petstore.swagger.io/v2/pet/{pet_id}'\n",
    "\n",
    "    # Make the GET request\n",
    "    response = requests.get(url)\n",
    "\n",
    "    # Check if the request was successful\n",
    "    if response.status_code == 200:\n",
    "        print(\"Pet details retrieved successfully!\")\n",
    "        return response.json()  # Return the JSON response which contains the pet details\n",
    "    else:\n",
    "        print(f\"Failed to retrieve pet: {response.status_code}\")\n",
    "        return response.text  # Return the error message if not successful\n",
    "\n",
    "# Example usage to get pet with ID 0\n",
    "pet_details = get_pet_by_id(101)\n",
    "print(pet_details)\n"
   ]
  }
 ],
 "metadata": {
  "kernelspec": {
   "display_name": "Python 3",
   "language": "python",
   "name": "python3"
  },
  "language_info": {
   "codemirror_mode": {
    "name": "ipython",
    "version": 3
   },
   "file_extension": ".py",
   "mimetype": "text/x-python",
   "name": "python",
   "nbconvert_exporter": "python",
   "pygments_lexer": "ipython3",
   "version": "3.12.3"
  }
 },
 "nbformat": 4,
 "nbformat_minor": 2
}
